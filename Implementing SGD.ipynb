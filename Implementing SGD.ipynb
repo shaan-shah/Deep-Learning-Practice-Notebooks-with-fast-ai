{
 "cells": [
  {
   "cell_type": "code",
   "execution_count": 1,
   "metadata": {},
   "outputs": [],
   "source": [
    "%matplotlib inline\n",
    "from fastai.basics import *\n"
   ]
  },
  {
   "cell_type": "code",
   "execution_count": 2,
   "metadata": {},
   "outputs": [
    {
     "data": {
      "text/plain": [
       "tensor([-0.6141,  0.6986, -0.0917, -0.4692,  0.9444, -0.3392,  0.3739, -0.0412,\n",
       "         0.7527,  0.8495, -0.3347,  0.2594, -0.8140,  0.2082, -0.9735,  0.0482,\n",
       "         0.2998, -0.4274, -0.2316, -0.7910,  0.3079, -0.7706, -0.4897,  0.8089,\n",
       "        -0.6481, -0.8816,  0.3701, -0.3790,  0.1149,  0.9113,  0.8007,  0.3690,\n",
       "         0.3553, -0.9837,  0.8708, -0.9740, -0.5613,  0.0092, -0.4910,  0.4669,\n",
       "         0.1385, -0.9905, -0.6407, -0.9388,  0.0917,  0.6291,  0.2902,  0.9392,\n",
       "        -0.5438, -0.0180,  0.2825, -0.7520, -0.8577, -0.4337,  0.4157, -0.5891,\n",
       "        -0.5418,  0.7091,  0.0458, -0.5802,  0.6393, -0.7863,  0.2510,  0.4377,\n",
       "         0.6407,  0.5077,  0.2799, -0.2809, -0.3140,  0.6721,  0.6446,  0.0985,\n",
       "         0.0563, -0.6590, -0.1384, -0.0307,  0.5779,  0.9704,  0.5573,  0.0165,\n",
       "         0.4474,  0.0210,  0.9600, -0.5456,  0.8863,  0.2198,  0.6531,  0.9465,\n",
       "         0.2080,  0.3050, -0.2931,  0.2884,  0.1674,  0.1663,  0.5818, -0.1502,\n",
       "         0.9326,  0.1707,  0.1177,  0.7487])"
      ]
     },
     "execution_count": 2,
     "metadata": {},
     "output_type": "execute_result"
    }
   ],
   "source": [
    "x=torch.ones(100,2)\n",
    "x[:,0].uniform_(-1.,1.)"
   ]
  },
  {
   "cell_type": "code",
   "execution_count": 3,
   "metadata": {},
   "outputs": [],
   "source": [
    "a=tensor(2.,3.)"
   ]
  },
  {
   "cell_type": "code",
   "execution_count": 4,
   "metadata": {},
   "outputs": [],
   "source": [
    "y=x@a + torch.rand(100)"
   ]
  },
  {
   "cell_type": "code",
   "execution_count": 5,
   "metadata": {},
   "outputs": [
    {
     "data": {
      "text/plain": [
       "<matplotlib.collections.PathCollection at 0x7f8e397a4a58>"
      ]
     },
     "execution_count": 5,
     "metadata": {},
     "output_type": "execute_result"
    },
    {
     "data": {
      "image/png": "[encoded data removed]",
      "text/plain": [
       "<Figure size 432x288 with 1 Axes>"
      ]
     },
     "metadata": {
      "needs_background": "light"
     },
     "output_type": "display_data"
    }
   ],
   "source": [
    "plt.scatter(x[:,0],y)"
   ]
  },
  {
   "cell_type": "markdown",
   "metadata": {},
   "source": [
    "Now we will try to find the value of a using SGD"
   ]
  },
  {
   "cell_type": "code",
   "execution_count": 6,
   "metadata": {},
   "outputs": [],
   "source": [
    "a=tensor(1.,1.)"
   ]
  },
  {
   "cell_type": "code",
   "execution_count": 7,
   "metadata": {},
   "outputs": [],
   "source": [
    "a=nn.Parameter(a)"
   ]
  },
  {
   "cell_type": "code",
   "execution_count": 8,
   "metadata": {},
   "outputs": [],
   "source": [
    "def mse(y_hat,y):\n",
    "    return ((y_hat-y)**2).mean()"
   ]
  },
  {
   "cell_type": "code",
   "execution_count": 9,
   "metadata": {},
   "outputs": [],
   "source": [
    "def update():\n",
    "    y_hat=x@a\n",
    "    loss=mse(y_hat,y)\n",
    "    if t%5==0 : print(loss)\n",
    "    loss.backward()\n",
    "    with torch.no_grad():\n",
    "        a.sub_(lr*a.grad)\n",
    "        a.grad.zero_()"
   ]
  },
  {
   "cell_type": "code",
   "execution_count": 10,
   "metadata": {},
   "outputs": [
    {
     "name": "stdout",
     "output_type": "stream",
     "text": [
      "tensor(6.4766, grad_fn=<MeanBackward0>)\n",
      "tensor(0.8264, grad_fn=<MeanBackward0>)\n",
      "tensor(0.1933, grad_fn=<MeanBackward0>)\n",
      "tensor(0.1084, grad_fn=<MeanBackward0>)\n",
      "tensor(0.0902, grad_fn=<MeanBackward0>)\n",
      "tensor(0.0835, grad_fn=<MeanBackward0>)\n",
      "tensor(0.0804, grad_fn=<MeanBackward0>)\n",
      "tensor(0.0788, grad_fn=<MeanBackward0>)\n",
      "tensor(0.0780, grad_fn=<MeanBackward0>)\n",
      "tensor(0.0775, grad_fn=<MeanBackward0>)\n",
      "tensor(0.0773, grad_fn=<MeanBackward0>)\n",
      "tensor(0.0772, grad_fn=<MeanBackward0>)\n",
      "tensor(0.0771, grad_fn=<MeanBackward0>)\n",
      "tensor(0.0771, grad_fn=<MeanBackward0>)\n",
      "tensor(0.0771, grad_fn=<MeanBackward0>)\n",
      "tensor(0.0771, grad_fn=<MeanBackward0>)\n",
      "tensor(0.0771, grad_fn=<MeanBackward0>)\n",
      "tensor(0.0771, grad_fn=<MeanBackward0>)\n",
      "tensor(0.0771, grad_fn=<MeanBackward0>)\n",
      "tensor(0.0771, grad_fn=<MeanBackward0>)\n"
     ]
    }
   ],
   "source": [
    "lr=1e-1\n",
    "for t in  range(100):\n",
    "    update()"
   ]
  },
  {
   "cell_type": "code",
   "execution_count": 11,
   "metadata": {},
   "outputs": [
    {
     "data": {
      "text/plain": [
       "Parameter containing:\n",
       "tensor([1.9587, 3.4114], requires_grad=True)"
      ]
     },
     "execution_count": 11,
     "metadata": {},
     "output_type": "execute_result"
    }
   ],
   "source": [
    "a"
   ]
  },
  {
   "cell_type": "code",
   "execution_count": 12,
   "metadata": {},
   "outputs": [],
   "source": [
    "preds=x@a\n",
    "preds=preds.detach().numpy()"
   ]
  },
  {
   "cell_type": "code",
   "execution_count": 13,
   "metadata": {},
   "outputs": [
    {
     "data": {
      "text/plain": [
       "<matplotlib.collections.PathCollection at 0x7f8e386cb278>"
      ]
     },
     "execution_count": 13,
     "metadata": {},
     "output_type": "execute_result"
    },
    {
     "data": {
      "image/png": "[encoded data removed]",
      "text/plain": [
       "<Figure size 432x288 with 1 Axes>"
      ]
     },
     "metadata": {
      "needs_background": "light"
     },
     "output_type": "display_data"
    }
   ],
   "source": [
    "plt.scatter(x[:,0],y)\n",
    "plt.scatter(x[:,0],preds)"
   ]
  }
 ],
 "metadata": {
  "kernelspec": {
   "display_name": "Python 3",
   "language": "python",
   "name": "python3"
  },
  "language_info": {
   "codemirror_mode": {
    "name": "ipython",
    "version": 3
   },
   "file_extension": ".py",
   "mimetype": "text/x-python",
   "name": "python",
   "nbconvert_exporter": "python",
   "pygments_lexer": "ipython3",
   "version": "3.6.7"
  }
 },
 "nbformat": 4,
 "nbformat_minor": 2
}
